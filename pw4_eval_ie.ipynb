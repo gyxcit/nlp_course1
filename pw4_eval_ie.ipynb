{
  "cells": [
    {
      "cell_type": "markdown",
      "id": "e5c124e2-aa30-4e39-bf27-e70462f12c3a",
      "metadata": {
        "id": "e5c124e2-aa30-4e39-bf27-e70462f12c3a"
      },
      "source": [
        "<a target=\"_blank\" href=\"https://colab.research.google.com/github/PaulLerner/aivancity_nlp/blob/main/pw4_eval_ie.ipynb\">\n",
        "  <img src=\"https://colab.research.google.com/assets/colab-badge.svg\" alt=\"Open In Colab\"/>\n",
        "</a>"
      ]
    },
    {
      "cell_type": "markdown",
      "id": "7d2dec2e-d98d-4204-8e58-9401bcc6f4fe",
      "metadata": {
        "id": "7d2dec2e-d98d-4204-8e58-9401bcc6f4fe"
      },
      "source": [
        "# Installation and imports\n",
        "\n",
        "Hit `Ctrl+S` to save a copy of the Colab notebook to your drive\n",
        "\n",
        "Run on Google Colab GPU:\n",
        "- Connect\n",
        "- Modify execution\n",
        "- GPU\n",
        "\n",
        "![image.png](https://paullerner.github.io/aivancity_nlp/_static/colab_gpu.png)"
      ]
    },
    {
      "cell_type": "code",
      "execution_count": 1,
      "id": "e54c3151-daea-4366-9b0c-080122b1f2bb",
      "metadata": {
        "id": "e54c3151-daea-4366-9b0c-080122b1f2bb"
      },
      "outputs": [],
      "source": [
        "import torch\n",
        "\n",
        "from torch import nn\n",
        "\n",
        "from transformers import AutoTokenizer, AutoModel"
      ]
    },
    {
      "cell_type": "code",
      "execution_count": 2,
      "id": "80f972d2-064d-4350-a9b3-ad6a6301214e",
      "metadata": {
        "id": "80f972d2-064d-4350-a9b3-ad6a6301214e"
      },
      "outputs": [],
      "source": [
        "assert torch.cuda.is_available(), \"Connect to GPU and try again (ask teacher for help)\""
      ]
    },
    {
      "cell_type": "markdown",
      "id": "9b589742-a07b-49a2-a48a-9fb8a9745427",
      "metadata": {
        "id": "9b589742-a07b-49a2-a48a-9fb8a9745427"
      },
      "source": [
        "# Data\n",
        "\n",
        "We'll use the [E3C dataset](https://books.openedition.org/aaccademia/pdf/8663) of Named Entity Recognition in clinical texts.\n",
        "\n",
        "Therefore, we'll use a model pretrained on scientific texts: [SciBert](https://www.aclweb.org/anthology/D19-1371)\n",
        "\n",
        "## Loading\n"
      ]
    },
    {
      "cell_type": "code",
      "execution_count": 3,
      "id": "b9ad6037-1a47-44f4-8ce1-0561a239b503",
      "metadata": {
        "id": "b9ad6037-1a47-44f4-8ce1-0561a239b503",
        "outputId": "adb67bc9-2dcc-4b24-fd41-f5dbcd5b7ccb",
        "colab": {
          "base_uri": "https://localhost:8080/"
        }
      },
      "outputs": [
        {
          "output_type": "stream",
          "name": "stdout",
          "text": [
            "--2025-03-04 13:11:49--  https://raw.githubusercontent.com/hltfbk/E3C-Corpus/refs/heads/main/preprocessed_data/clinical_entities/layer1/English/test.txt\n",
            "Resolving raw.githubusercontent.com (raw.githubusercontent.com)... 185.199.110.133, 185.199.109.133, 185.199.108.133, ...\n",
            "Connecting to raw.githubusercontent.com (raw.githubusercontent.com)|185.199.110.133|:443... connected.\n",
            "HTTP request sent, awaiting response... 200 OK\n",
            "Length: 136768 (134K) [text/plain]\n",
            "Saving to: ‘test.txt’\n",
            "\n",
            "\rtest.txt              0%[                    ]       0  --.-KB/s               \rtest.txt            100%[===================>] 133.56K  --.-KB/s    in 0.03s   \n",
            "\n",
            "2025-03-04 13:11:50 (4.92 MB/s) - ‘test.txt’ saved [136768/136768]\n",
            "\n"
          ]
        }
      ],
      "source": [
        "!wget https://raw.githubusercontent.com/hltfbk/E3C-Corpus/refs/heads/main/preprocessed_data/clinical_entities/layer1/English/test.txt"
      ]
    },
    {
      "cell_type": "code",
      "execution_count": 4,
      "id": "b9ae2234-5654-4389-9f40-afa81b6a48a4",
      "metadata": {
        "id": "b9ae2234-5654-4389-9f40-afa81b6a48a4",
        "outputId": "80cda9ba-6509-42d1-f31f-731b7f45ba77",
        "colab": {
          "base_uri": "https://localhost:8080/"
        }
      },
      "outputs": [
        {
          "output_type": "stream",
          "name": "stdout",
          "text": [
            "--2025-03-04 13:12:11--  https://raw.githubusercontent.com/hltfbk/E3C-Corpus/refs/heads/main/preprocessed_data/clinical_entities/layer1/English/train.txt\n",
            "Resolving raw.githubusercontent.com (raw.githubusercontent.com)... 185.199.108.133, 185.199.109.133, 185.199.110.133, ...\n",
            "Connecting to raw.githubusercontent.com (raw.githubusercontent.com)|185.199.108.133|:443... connected.\n",
            "HTTP request sent, awaiting response... 200 OK\n",
            "Length: 103512 (101K) [text/plain]\n",
            "Saving to: ‘train.txt’\n",
            "\n",
            "\rtrain.txt             0%[                    ]       0  --.-KB/s               \rtrain.txt           100%[===================>] 101.09K  --.-KB/s    in 0.02s   \n",
            "\n",
            "2025-03-04 13:12:11 (4.25 MB/s) - ‘train.txt’ saved [103512/103512]\n",
            "\n"
          ]
        }
      ],
      "source": [
        "!wget https://raw.githubusercontent.com/hltfbk/E3C-Corpus/refs/heads/main/preprocessed_data/clinical_entities/layer1/English/train.txt"
      ]
    },
    {
      "cell_type": "code",
      "execution_count": 5,
      "id": "df9e0fb8-1bbd-421e-b11e-69cb486f1b81",
      "metadata": {
        "id": "df9e0fb8-1bbd-421e-b11e-69cb486f1b81",
        "colab": {
          "base_uri": "https://localhost:8080/",
          "height": 190,
          "referenced_widgets": [
            "e1929de9fb994744813abde502654124",
            "65016f8adb5f4921b636fa2dc1d65612",
            "1238c5b8ce3a44498b9be734e2ae93d9",
            "c8e8d597b0bc4fd2a1134337bb05311b",
            "dd45839a29794b48a95cb227dd012fd3",
            "9e71ec08a3004406abb180b9b59a64a5",
            "98c796afdecc429b81f3ab3107660539",
            "a3d37a6be41d42a893ab3b1201ccc017",
            "dbf615e5470a42b5ac884ed239c39390",
            "299200dc349f4ef6a801106ee7e1f463",
            "382c722b0d3e4357880778a671f693ed",
            "3d6c8f8770364b50bc467582efe80e09",
            "9c441e3873494d95b3fd9142dc9de37a",
            "e2cd325bdaea494da1843c43f5110bfc",
            "f66a1a03200d4cdda91f3d8fa9b9f518",
            "a3342982f21a4f82a6f4583a8c81f8c5",
            "7f1ad2f006b3453589b4f8565932a913",
            "5bca7521b1a94fd19fd75be1bb95a0dc",
            "e893890cc5d4430caee4a84b62522f21",
            "2084ac5184c047bf9f1309a89cdb598c",
            "ee7622305c1f464daa657767754d05b3",
            "b69b4a285c3a404e9fde0bb6435cc9e8"
          ]
        },
        "outputId": "d9150b60-d154-400c-e31e-b6a01aaeaa93"
      },
      "outputs": [
        {
          "output_type": "stream",
          "name": "stderr",
          "text": [
            "/usr/local/lib/python3.11/dist-packages/huggingface_hub/utils/_auth.py:94: UserWarning: \n",
            "The secret `HF_TOKEN` does not exist in your Colab secrets.\n",
            "To authenticate with the Hugging Face Hub, create a token in your settings tab (https://huggingface.co/settings/tokens), set it as secret in your Google Colab and restart your session.\n",
            "You will be able to reuse this secret in all of your notebooks.\n",
            "Please note that authentication is recommended but still optional to access public models or datasets.\n",
            "  warnings.warn(\n"
          ]
        },
        {
          "output_type": "display_data",
          "data": {
            "text/plain": [
              "config.json:   0%|          | 0.00/385 [00:00<?, ?B/s]"
            ],
            "application/vnd.jupyter.widget-view+json": {
              "version_major": 2,
              "version_minor": 0,
              "model_id": "e1929de9fb994744813abde502654124"
            }
          },
          "metadata": {}
        },
        {
          "output_type": "display_data",
          "data": {
            "text/plain": [
              "pytorch_model.bin:   0%|          | 0.00/442M [00:00<?, ?B/s]"
            ],
            "application/vnd.jupyter.widget-view+json": {
              "version_major": 2,
              "version_minor": 0,
              "model_id": "3d6c8f8770364b50bc467582efe80e09"
            }
          },
          "metadata": {}
        }
      ],
      "source": [
        "encoder = AutoModel.from_pretrained(\"allenai/scibert_scivocab_cased\", device_map=\"auto\", add_pooling_layer=False)"
      ]
    },
    {
      "cell_type": "code",
      "execution_count": 6,
      "id": "12c424f5-6fe5-4ffe-90dc-2b6c62554af6",
      "metadata": {
        "id": "12c424f5-6fe5-4ffe-90dc-2b6c62554af6",
        "outputId": "04ee5704-ba1c-4d05-ee86-18bce2dad2ce",
        "colab": {
          "base_uri": "https://localhost:8080/"
        }
      },
      "outputs": [
        {
          "output_type": "execute_result",
          "data": {
            "text/plain": [
              "BertModel(\n",
              "  (embeddings): BertEmbeddings(\n",
              "    (word_embeddings): Embedding(31116, 768, padding_idx=0)\n",
              "    (position_embeddings): Embedding(512, 768)\n",
              "    (token_type_embeddings): Embedding(2, 768)\n",
              "    (LayerNorm): LayerNorm((768,), eps=1e-12, elementwise_affine=True)\n",
              "    (dropout): Dropout(p=0.1, inplace=False)\n",
              "  )\n",
              "  (encoder): BertEncoder(\n",
              "    (layer): ModuleList(\n",
              "      (0-11): 12 x BertLayer(\n",
              "        (attention): BertAttention(\n",
              "          (self): BertSdpaSelfAttention(\n",
              "            (query): Linear(in_features=768, out_features=768, bias=True)\n",
              "            (key): Linear(in_features=768, out_features=768, bias=True)\n",
              "            (value): Linear(in_features=768, out_features=768, bias=True)\n",
              "            (dropout): Dropout(p=0.1, inplace=False)\n",
              "          )\n",
              "          (output): BertSelfOutput(\n",
              "            (dense): Linear(in_features=768, out_features=768, bias=True)\n",
              "            (LayerNorm): LayerNorm((768,), eps=1e-12, elementwise_affine=True)\n",
              "            (dropout): Dropout(p=0.1, inplace=False)\n",
              "          )\n",
              "        )\n",
              "        (intermediate): BertIntermediate(\n",
              "          (dense): Linear(in_features=768, out_features=3072, bias=True)\n",
              "          (intermediate_act_fn): GELUActivation()\n",
              "        )\n",
              "        (output): BertOutput(\n",
              "          (dense): Linear(in_features=3072, out_features=768, bias=True)\n",
              "          (LayerNorm): LayerNorm((768,), eps=1e-12, elementwise_affine=True)\n",
              "          (dropout): Dropout(p=0.1, inplace=False)\n",
              "        )\n",
              "      )\n",
              "    )\n",
              "  )\n",
              ")"
            ]
          },
          "metadata": {},
          "execution_count": 6
        }
      ],
      "source": [
        "encoder"
      ]
    },
    {
      "cell_type": "code",
      "execution_count": 7,
      "id": "a7b55d4f-406e-46bf-ba91-b05b1a86e968",
      "metadata": {
        "id": "a7b55d4f-406e-46bf-ba91-b05b1a86e968",
        "colab": {
          "base_uri": "https://localhost:8080/",
          "height": 49,
          "referenced_widgets": [
            "c04aa56a7cfc4367af26dedcaed4dc6c",
            "baeb931d519e4f8ab51572a9c4ddb73b",
            "338b68b96ee740af946ec30438207e51",
            "32ddfe0aa48e44cbb36915d4b8ba2899",
            "5df83e497d0f4bcdbb8475fb5358f9a0",
            "42a4e199aa79438c91e314d286873691",
            "b9b49968187a41dcbe58212f3b4d766f",
            "789e34c98aff47f9a310936a4185faba",
            "31a11061fed34889ae27fe68edebe90a",
            "e4ed713305b041cebf5fd3f49fe5aca5",
            "59c47c713a6446ecac1f19d7cf0cbbed"
          ]
        },
        "outputId": "3d8c9e9f-e461-4fc7-9809-d8ee2a591fd7"
      },
      "outputs": [
        {
          "output_type": "display_data",
          "data": {
            "text/plain": [
              "vocab.txt:   0%|          | 0.00/222k [00:00<?, ?B/s]"
            ],
            "application/vnd.jupyter.widget-view+json": {
              "version_major": 2,
              "version_minor": 0,
              "model_id": "c04aa56a7cfc4367af26dedcaed4dc6c"
            }
          },
          "metadata": {}
        }
      ],
      "source": [
        "tokenizer = AutoTokenizer.from_pretrained(\"allenai/scibert_scivocab_cased\", do_lower_case=False)"
      ]
    },
    {
      "cell_type": "code",
      "execution_count": 8,
      "id": "8a9da0a9-9975-495d-af73-19eac45f25e8",
      "metadata": {
        "id": "8a9da0a9-9975-495d-af73-19eac45f25e8"
      },
      "outputs": [],
      "source": [
        "LABELS = {'O': 0, 'B-ety': 1, 'I-ety': 2}\n",
        "i2label = {i: label for label, i in LABELS.items()}"
      ]
    },
    {
      "cell_type": "code",
      "execution_count": 9,
      "id": "f91a6918-4d31-47a9-a22b-157dc88d93f9",
      "metadata": {
        "id": "f91a6918-4d31-47a9-a22b-157dc88d93f9"
      },
      "outputs": [],
      "source": [
        "def read_data(path):\n",
        "    with open(path,\"rt\") as file:\n",
        "        lines = file.read().strip().split(\"\\n\")\n",
        "    dataset = []\n",
        "    tokens, labels = [], []\n",
        "    for line in lines:\n",
        "        if line:\n",
        "            token, label = line.split(\" \")\n",
        "            tokens.append(token)\n",
        "            labels.append(LABELS[label])\n",
        "        else:\n",
        "            dataset.append((tokens, labels))\n",
        "            tokens, labels = [], []\n",
        "    dataset.append((tokens, labels))\n",
        "    return dataset\n",
        "train_set = read_data(\"train.txt\")"
      ]
    },
    {
      "cell_type": "code",
      "execution_count": 10,
      "id": "c456e186-6219-4e54-852b-8e3988a356c9",
      "metadata": {
        "id": "c456e186-6219-4e54-852b-8e3988a356c9"
      },
      "outputs": [],
      "source": [
        "test_set = read_data(\"test.txt\")"
      ]
    },
    {
      "cell_type": "code",
      "execution_count": 11,
      "id": "fadc5f9c-bf58-4861-bfa8-fbb2716d5807",
      "metadata": {
        "id": "fadc5f9c-bf58-4861-bfa8-fbb2716d5807",
        "outputId": "dedf8971-c5ea-4fd8-a5f7-f6e658cfda86",
        "colab": {
          "base_uri": "https://localhost:8080/"
        }
      },
      "outputs": [
        {
          "output_type": "stream",
          "name": "stdout",
          "text": [
            "669 851\n"
          ]
        }
      ],
      "source": [
        "print(len(train_set), len(test_set))"
      ]
    },
    {
      "cell_type": "code",
      "execution_count": 12,
      "id": "f45e8da6-0438-413a-8b88-8e545af6c313",
      "metadata": {
        "id": "f45e8da6-0438-413a-8b88-8e545af6c313",
        "outputId": "89a3cfd9-2511-4db3-b6e4-fdbf697061ab",
        "colab": {
          "base_uri": "https://localhost:8080/"
        }
      },
      "outputs": [
        {
          "output_type": "stream",
          "name": "stdout",
          "text": [
            "A 14 - year old boy with no significant past medical history presented to a small district hospital in southern Sierra Leone with a 4 day history of facial puffiness , peripheral pitting oedema , abdominal pains , and reduced urine output .\n",
            "[('A', 'O'), ('14', 'O'), ('-', 'O'), ('year', 'O'), ('old', 'O'), ('boy', 'O'), ('with', 'O'), ('no', 'O'), ('significant', 'O'), ('past', 'O'), ('medical', 'O'), ('history', 'O'), ('presented', 'O'), ('to', 'O'), ('a', 'O'), ('small', 'O'), ('district', 'O'), ('hospital', 'O'), ('in', 'O'), ('southern', 'O'), ('Sierra', 'O'), ('Leone', 'O'), ('with', 'O'), ('a', 'O'), ('4', 'O'), ('day', 'O'), ('history', 'O'), ('of', 'O'), ('facial', 'B-ety'), ('puffiness', 'I-ety'), (',', 'O'), ('peripheral', 'O'), ('pitting', 'B-ety'), ('oedema', 'I-ety'), (',', 'O'), ('abdominal', 'O'), ('pains', 'O'), (',', 'O'), ('and', 'O'), ('reduced', 'O'), ('urine', 'O'), ('output', 'O'), ('.', 'O')]\n"
          ]
        }
      ],
      "source": [
        "item = train_set[0]\n",
        "print(\" \".join(item[0]))\n",
        "print(list(zip(item[0], [i2label[label] for label in item[1]])))"
      ]
    },
    {
      "cell_type": "markdown",
      "id": "63c038d2-c67d-49e4-a7e6-46aee2680d2e",
      "metadata": {
        "id": "63c038d2-c67d-49e4-a7e6-46aee2680d2e"
      },
      "source": [
        "## Train-dev-test split\n",
        "Notice that the original dataset has no dedicated validation split.\n",
        "\n",
        "Randomly split the test set in 50% validation and 50% test"
      ]
    },
    {
      "cell_type": "code",
      "source": [
        "from sklearn.model_selection import train_test_split\n",
        "\n",
        "# Assuming train_set and test_set are already defined\n",
        "test_set, dev_set = train_test_split(test_set, test_size=0.5, random_state=42)"
      ],
      "metadata": {
        "id": "yeM8G4JQUdbI"
      },
      "id": "yeM8G4JQUdbI",
      "execution_count": 14,
      "outputs": []
    },
    {
      "cell_type": "code",
      "execution_count": 15,
      "id": "028fd40e-c3e4-47d7-a49e-909e93ae0dca",
      "metadata": {
        "id": "028fd40e-c3e4-47d7-a49e-909e93ae0dca",
        "outputId": "34e38b03-b43f-47e9-8165-23f7224d531e",
        "colab": {
          "base_uri": "https://localhost:8080/"
        }
      },
      "outputs": [
        {
          "output_type": "stream",
          "name": "stdout",
          "text": [
            "669 426 425\n"
          ]
        }
      ],
      "source": [
        "print(len(train_set), len(dev_set), len(test_set))"
      ]
    },
    {
      "cell_type": "markdown",
      "id": "3d17a67e-55ac-4b25-b8d8-fb2c554dd96b",
      "metadata": {
        "id": "3d17a67e-55ac-4b25-b8d8-fb2c554dd96b"
      },
      "source": [
        "## Sequence labels"
      ]
    },
    {
      "cell_type": "markdown",
      "id": "df9f4548-a15a-486e-8943-753c5f172bc9",
      "metadata": {
        "id": "df9f4548-a15a-486e-8943-753c5f172bc9"
      },
      "source": [
        "Because BERT has a subword tokenizer, we need to map the label sequence to the subwords.\n",
        "\n",
        "Beware to change the label from B to I for subwords that are in the middle of a word.\n",
        "\n",
        "For example `'pit', '##ting'` should be tagged `'B-ety', 'I-ety'`, not `'B-ety', 'B-ety'`\n",
        "\n",
        "Also make sure to add BERT special tokens for beginning of sequence and end of sequence. Give them `-100` as label so they are not taken into account when computing the loss.\n"
      ]
    },
    {
      "cell_type": "code",
      "execution_count": 21,
      "id": "a59d80e5-a47d-4579-a059-db96463998cb",
      "metadata": {
        "scrolled": true,
        "id": "a59d80e5-a47d-4579-a059-db96463998cb"
      },
      "outputs": [],
      "source": [
        "words=tokenizer.tokenize(\" \".join(item[0]))"
      ]
    },
    {
      "cell_type": "code",
      "source": [
        "words"
      ],
      "metadata": {
        "id": "dbWoJ73mYko6",
        "outputId": "62435132-89c8-43a3-ad83-88208b874946",
        "colab": {
          "base_uri": "https://localhost:8080/"
        }
      },
      "id": "dbWoJ73mYko6",
      "execution_count": 26,
      "outputs": [
        {
          "output_type": "execute_result",
          "data": {
            "text/plain": [
              "['A',\n",
              " '14',\n",
              " '-',\n",
              " 'year',\n",
              " 'old',\n",
              " 'boy',\n",
              " 'with',\n",
              " 'no',\n",
              " 'significant',\n",
              " 'past',\n",
              " 'medical',\n",
              " 'history',\n",
              " 'presented',\n",
              " 'to',\n",
              " 'a',\n",
              " 'small',\n",
              " 'district',\n",
              " 'hospital',\n",
              " 'in',\n",
              " 'southern',\n",
              " 'Sie',\n",
              " '##rr',\n",
              " '##a',\n",
              " 'Leon',\n",
              " '##e',\n",
              " 'with',\n",
              " 'a',\n",
              " '4',\n",
              " 'day',\n",
              " 'history',\n",
              " 'of',\n",
              " 'facial',\n",
              " 'pu',\n",
              " '##ffi',\n",
              " '##ness',\n",
              " ',',\n",
              " 'peripheral',\n",
              " 'pit',\n",
              " '##ting',\n",
              " 'o',\n",
              " '##edema',\n",
              " ',',\n",
              " 'abdominal',\n",
              " 'pain',\n",
              " '##s',\n",
              " ',',\n",
              " 'and',\n",
              " 'reduced',\n",
              " 'urine',\n",
              " 'output',\n",
              " '.']"
            ]
          },
          "metadata": {},
          "execution_count": 26
        }
      ]
    },
    {
      "cell_type": "code",
      "execution_count": 22,
      "id": "59e97cc7-2948-4556-adfe-3d1b62518081",
      "metadata": {
        "id": "59e97cc7-2948-4556-adfe-3d1b62518081",
        "outputId": "7e309a42-3992-402a-c60a-0e1e87c4b4b9",
        "colab": {
          "base_uri": "https://localhost:8080/",
          "height": 36
        }
      },
      "outputs": [
        {
          "output_type": "execute_result",
          "data": {
            "text/plain": [
              "'[CLS]'"
            ],
            "application/vnd.google.colaboratory.intrinsic+json": {
              "type": "string"
            }
          },
          "metadata": {},
          "execution_count": 22
        }
      ],
      "source": [
        "tokenizer.cls_token"
      ]
    },
    {
      "cell_type": "code",
      "execution_count": 23,
      "id": "3cb8f9c2-0877-41f3-a060-89d25131f665",
      "metadata": {
        "id": "3cb8f9c2-0877-41f3-a060-89d25131f665",
        "outputId": "02af1f49-39e6-4ae0-8555-c13e0e2699ad",
        "colab": {
          "base_uri": "https://localhost:8080/",
          "height": 36
        }
      },
      "outputs": [
        {
          "output_type": "execute_result",
          "data": {
            "text/plain": [
              "'[SEP]'"
            ],
            "application/vnd.google.colaboratory.intrinsic+json": {
              "type": "string"
            }
          },
          "metadata": {},
          "execution_count": 23
        }
      ],
      "source": [
        "tokenizer.sep_token"
      ]
    },
    {
      "cell_type": "code",
      "execution_count": 37,
      "id": "d55b57c4-69a4-409c-a5ce-d9786e3c550f",
      "metadata": {
        "id": "d55b57c4-69a4-409c-a5ce-d9786e3c550f",
        "outputId": "5a94c0f9-0725-4b04-86ce-d1081ea51be1",
        "colab": {
          "base_uri": "https://localhost:8080/"
        }
      },
      "outputs": [
        {
          "output_type": "stream",
          "name": "stdout",
          "text": [
            "[('[CLS]', None), ('A', 'O'), ('14', 'O'), ('-', 'O'), ('year', 'O'), ('old', 'O'), ('boy', 'O'), ('with', 'O'), ('no', 'O'), ('significant', 'O'), ('past', 'O'), ('medical', 'O'), ('history', 'O'), ('presented', 'O'), ('to', 'O'), ('a', 'O'), ('small', 'O'), ('district', 'O'), ('hospital', 'O'), ('in', 'O'), ('southern', 'O'), ('Sie', 'O'), ('##rr', 'O'), ('##a', 'O'), ('Leon', 'O'), ('##e', 'O'), ('with', 'O'), ('a', 'O'), ('4', 'O'), ('day', 'O'), ('history', 'O'), ('of', 'O'), ('facial', 'B-ety'), ('pu', 'I-ety'), ('##ffi', 'I-ety'), ('##ness', 'I-ety'), (',', 'O'), ('peripheral', 'O'), ('pit', 'B-ety'), ('##ting', 'I-ety'), ('o', 'I-ety'), ('##edema', 'I-ety'), (',', 'O'), ('abdominal', 'O'), ('pain', 'O'), ('##s', 'O'), (',', 'O'), ('and', 'O'), ('reduced', 'O'), ('urine', 'O'), ('output', 'O'), ('.', 'O'), ('[SEP]', None)]\n"
          ]
        }
      ],
      "source": [
        "def tokenize_and_align_labels(tokenizer, tokens, labels):\n",
        "    tokenized_input = []\n",
        "    aligned_labels = []\n",
        "\n",
        "    tokenized_input.append((tokenizer.cls_token, None))  # Add [CLS] token\n",
        "    aligned_labels.append(-100)\n",
        "\n",
        "    for token, label in zip(tokens, labels):\n",
        "        sub_tokens = tokenizer.tokenize(token)\n",
        "\n",
        "        for i, sub_token in enumerate(sub_tokens):\n",
        "            tokenized_input.append((sub_token, label if i == 0 else f\"I-{label[2:]}\" if \"-\" in label else label))\n",
        "            aligned_labels.append(label if i == 0 else f\"I-{label[2:]}\" if \"-\" in label else label)\n",
        "\n",
        "    tokenized_input.append((tokenizer.sep_token, None))  # Add [SEP] token\n",
        "    aligned_labels.append(-100)\n",
        "\n",
        "    return tokenized_input, aligned_labels\n",
        "\n",
        "# Example usage\n",
        "tokenized, aligned = tokenize_and_align_labels(tokenizer, item[0], [i2label[label] for label in item[1]])\n",
        "\n",
        "print(tokenized)"
      ]
    },
    {
      "cell_type": "markdown",
      "id": "0c924cc6-c7c1-40cb-8a9c-96b6fed599ee",
      "metadata": {
        "id": "0c924cc6-c7c1-40cb-8a9c-96b6fed599ee"
      },
      "source": [
        "## Batching"
      ]
    },
    {
      "cell_type": "code",
      "execution_count": 38,
      "id": "220cd191-7ca8-4762-9c53-75f229bd0e43",
      "metadata": {
        "id": "220cd191-7ca8-4762-9c53-75f229bd0e43"
      },
      "outputs": [],
      "source": [
        "batch_size = 4\n",
        "train_loader = torch.utils.data.DataLoader(train_set, batch_size=batch_size, shuffle=True, collate_fn=lambda x: x)\n"
      ]
    },
    {
      "cell_type": "code",
      "execution_count": 39,
      "id": "e73a5112-2cd8-447b-8abe-a2b9ad732ab6",
      "metadata": {
        "id": "e73a5112-2cd8-447b-8abe-a2b9ad732ab6"
      },
      "outputs": [],
      "source": [
        "batch = next(iter(train_loader))"
      ]
    },
    {
      "cell_type": "markdown",
      "id": "2a60f2df-82d7-4a69-ab48-08cdf0e493a2",
      "metadata": {
        "id": "2a60f2df-82d7-4a69-ab48-08cdf0e493a2"
      },
      "source": [
        "Tokenize and get labels for all examples in the batch. Get the identifiers of tokens using `tokenizer.convert_tokens_to_ids`\n",
        "\n",
        "Save the length (number of tokens) of each example in a separate list"
      ]
    },
    {
      "cell_type": "markdown",
      "id": "c25fc000-a095-4f8f-9986-38ec0ee28222",
      "metadata": {
        "id": "c25fc000-a095-4f8f-9986-38ec0ee28222"
      },
      "source": [
        "You should end up with a list of list like so"
      ]
    },
    {
      "cell_type": "code",
      "source": [
        "def process_batch(batch, tokenizer, i2label):\n",
        "    \"\"\"\n",
        "    Traite un batch d'exemples en tokenisant, alignant les labels, convertissant les tokens en identifiants et en padant les séquences.\n",
        "\n",
        "    Paramètres:\n",
        "      - batch: liste d'exemples, où chaque exemple est un tuple (tokens, label_indices)\n",
        "      - tokenizer: le tokenizer BERT (ex: SciBERT)\n",
        "      - i2label: dictionnaire de conversion des indices de labels en leur représentation (ex: {0: \"O\", 1: \"B-ety\", 2: \"I-ety\"})\n",
        "\n",
        "    Retourne:\n",
        "      - tokens_batch: liste de listes d'identifiants de tokens, padées à la même longueur\n",
        "      - labels_batch: liste de listes de labels alignés, padés avec -100\n",
        "      - lengths: liste contenant la longueur (nombre de tokens) de chaque exemple avant padding\n",
        "    \"\"\"\n",
        "    tokens_batch = []\n",
        "    labels_batch = []\n",
        "    lengths = []\n",
        "\n",
        "    for example in batch:\n",
        "        tokens, label_indices = example\n",
        "        # Conversion des indices de labels en labels de base (ex: \"O\", \"B-ety\", \"I-ety\")\n",
        "        base_labels = [i2label[label] for label in label_indices]\n",
        "        # Tokenize et alignement des labels pour l'exemple courant\n",
        "        tokenized_input, aligned_labels = tokenize_and_align_labels(tokenizer, tokens, base_labels)\n",
        "        # Extraire la liste des tokens sous forme de chaînes\n",
        "        tokens_list = [token for token, _ in tokenized_input]\n",
        "        # Conversion en identifiants\n",
        "        token_ids = tokenizer.convert_tokens_to_ids(tokens_list)\n",
        "\n",
        "        tokens_batch.append(token_ids)\n",
        "        labels_batch.append(aligned_labels)\n",
        "        lengths.append(len(token_ids))\n",
        "\n",
        "    # Padding des séquences\n",
        "    max_len = max(lengths)\n",
        "    pad_token_id = tokenizer.pad_token_id if tokenizer.pad_token_id is not None else 0\n",
        "\n",
        "    for i in range(len(tokens_batch)):\n",
        "        pad_len = max_len - len(tokens_batch[i])\n",
        "        tokens_batch[i] = tokens_batch[i] + [pad_token_id] * pad_len\n",
        "        labels_batch[i] = labels_batch[i] + [-100] * pad_len\n",
        "\n",
        "    return tokens_batch, labels_batch, lengths"
      ],
      "metadata": {
        "id": "w10pLkCFc7jI"
      },
      "id": "w10pLkCFc7jI",
      "execution_count": 41,
      "outputs": []
    },
    {
      "cell_type": "code",
      "source": [
        "batch_size = 4\n",
        "train_loader = torch.utils.data.DataLoader(train_set, batch_size=batch_size, shuffle=True, collate_fn=lambda x: x)\n",
        "batch = next(iter(train_loader))\n",
        "\n",
        "tokens_batch, labels_batch, lengths = process_batch(batch, tokenizer, i2label)\n",
        "\n",
        "print(\"tokens_batch:\")\n",
        "print(tokens_batch)\n",
        "print(\"\\nlabels_batch:\")\n",
        "print(labels_batch)\n",
        "print(\"\\nLengths:\", lengths)\n"
      ],
      "metadata": {
        "id": "-N5CLELrbssZ",
        "outputId": "0e1b3103-ff0a-492f-deba-fb8e5f5ea7c0",
        "colab": {
          "base_uri": "https://localhost:8080/"
        }
      },
      "id": "-N5CLELrbssZ",
      "execution_count": 42,
      "outputs": [
        {
          "output_type": "stream",
          "name": "stdout",
          "text": [
            "tokens_batch:\n",
            "[[101, 186, 16583, 12929, 125, 111, 333, 3135, 30116, 10689, 253, 9812, 4449, 188, 17504, 146, 111, 9794, 5903, 18325, 211, 102, 0, 0, 0, 0, 0, 0, 0, 0, 0, 0, 0, 0, 0, 0, 0, 0, 0, 0, 0, 0, 0, 0, 0, 0, 0, 0, 0, 0, 0], [101, 186, 14012, 2504, 2899, 105, 1155, 5991, 1129, 942, 23994, 16861, 30113, 28294, 430, 188, 15409, 14881, 125, 111, 2185, 18542, 1346, 430, 25549, 11189, 12199, 30108, 15396, 30108, 136, 1326, 1877, 6409, 2979, 125, 111, 12551, 19647, 10050, 430, 15463, 111, 2891, 125, 4572, 17691, 5812, 945, 211, 102], [101, 186, 2654, 19218, 125, 111, 4523, 21055, 8197, 253, 148, 30141, 243, 30129, 194, 30129, 211, 102, 0, 0, 0, 0, 0, 0, 0, 0, 0, 0, 0, 0, 0, 0, 0, 0, 0, 0, 0, 0, 0, 0, 0, 0, 0, 0, 0, 0, 0, 0, 0, 0, 0], [101, 29203, 273, 2170, 210, 19241, 19079, 16556, 211, 102, 0, 0, 0, 0, 0, 0, 0, 0, 0, 0, 0, 0, 0, 0, 0, 0, 0, 0, 0, 0, 0, 0, 0, 0, 0, 0, 0, 0, 0, 0, 0, 0, 0, 0, 0, 0, 0, 0, 0, 0, 0]]\n",
            "\n",
            "labels_batch:\n",
            "[[-100, 'O', 'O', 'O', 'O', 'O', 'O', 'O', 'O', 'O', 'O', 'O', 'O', 'O', 'O', 'O', 'O', 'O', 'O', 'O', 'O', -100, -100, -100, -100, -100, -100, -100, -100, -100, -100, -100, -100, -100, -100, -100, -100, -100, -100, -100, -100, -100, -100, -100, -100, -100, -100, -100, -100, -100, -100], [-100, 'O', 'O', 'O', 'O', 'O', 'O', 'B-ety', 'I-ety', 'I-ety', 'I-ety', 'I-ety', 'I-ety', 'I-ety', 'O', 'O', 'B-ety', 'I-ety', 'I-ety', 'I-ety', 'I-ety', 'I-ety', 'I-ety', 'O', 'O', 'O', 'O', 'O', 'O', 'O', 'O', 'O', 'O', 'O', 'O', 'O', 'O', 'O', 'O', 'O', 'O', 'O', 'O', 'O', 'O', 'B-ety', 'I-ety', 'I-ety', 'I-ety', 'O', -100], [-100, 'O', 'O', 'O', 'O', 'O', 'O', 'O', 'O', 'O', 'O', 'O', 'O', 'O', 'O', 'O', 'O', -100, -100, -100, -100, -100, -100, -100, -100, -100, -100, -100, -100, -100, -100, -100, -100, -100, -100, -100, -100, -100, -100, -100, -100, -100, -100, -100, -100, -100, -100, -100, -100, -100, -100], [-100, 'O', 'O', 'O', 'O', 'O', 'B-ety', 'I-ety', 'O', -100, -100, -100, -100, -100, -100, -100, -100, -100, -100, -100, -100, -100, -100, -100, -100, -100, -100, -100, -100, -100, -100, -100, -100, -100, -100, -100, -100, -100, -100, -100, -100, -100, -100, -100, -100, -100, -100, -100, -100, -100, -100]]\n",
            "\n",
            "Lengths: [22, 51, 18, 10]\n"
          ]
        }
      ]
    },
    {
      "cell_type": "markdown",
      "id": "d4b30857-c8d6-4460-a408-c34e73a00924",
      "metadata": {
        "id": "d4b30857-c8d6-4460-a408-c34e73a00924"
      },
      "source": [
        "Notice that each example in the batch has a different size so we will pad them. The padded tokens will be masked in the attention mechanism (already implemented in BERT, you simply need to pass `attention_mask`) and will be given the label `-100` so they are not taken into account when computing the loss.\n"
      ]
    },
    {
      "cell_type": "code",
      "execution_count": 45,
      "id": "63839c35-175b-43a0-ac12-419186923fcf",
      "metadata": {
        "id": "63839c35-175b-43a0-ac12-419186923fcf",
        "outputId": "03b32a62-dcb2-4cd5-d428-495943161373",
        "colab": {
          "base_uri": "https://localhost:8080/"
        }
      },
      "outputs": [
        {
          "output_type": "execute_result",
          "data": {
            "text/plain": [
              "[22, 51, 18, 10]"
            ]
          },
          "metadata": {},
          "execution_count": 45
        }
      ],
      "source": [
        "lengths"
      ]
    },
    {
      "cell_type": "markdown",
      "id": "1a36ea0d-70af-401e-9549-9d7f42a95b2f",
      "metadata": {
        "id": "1a36ea0d-70af-401e-9549-9d7f42a95b2f"
      },
      "source": [
        "\n",
        "\n",
        "```\n",
        "# Ce texte est au format code\n",
        "```\n",
        "\n",
        "Here we simply add padding so that all examples can fit in the same Tensor"
      ]
    },
    {
      "cell_type": "code",
      "execution_count": 51,
      "id": "a4f31a18-9219-43fa-bb8d-546fdc6e6e6d",
      "metadata": {
        "id": "a4f31a18-9219-43fa-bb8d-546fdc6e6e6d"
      },
      "outputs": [],
      "source": [
        "input_ids = torch.zeros(len(batch), max(lengths), dtype=int, device=\"cuda\")\n",
        "attention_mask = torch.zeros(len(batch), max(lengths), dtype=int, device=\"cuda\")\n",
        "labels = torch.full((len(batch), max(lengths)), -100, dtype=int, device=\"cuda\")\n",
        "label_to_id=LABELS"
      ]
    },
    {
      "cell_type": "code",
      "source": [
        "for i, (token, label) in enumerate(zip(tokens_batch, labels_batch)):\n",
        "    # Convertir la liste des tokens et des labels en tenseur.\n",
        "    input_ids[i, :len(token)] = torch.tensor(token, dtype=torch.long)\n",
        "    attention_mask[i, :len(token)] = 1\n",
        "\n",
        "    # Convertir les labels (chaînes) en entiers à l'aide de label_to_id.\n",
        "    numeric_labels = [label_to_id[l] if l in label_to_id else -100 for l in label]\n",
        "    labels[i, :len(numeric_labels)] = torch.tensor(numeric_labels, dtype=torch.long)"
      ],
      "metadata": {
        "id": "HDXphyBbfcx3"
      },
      "id": "HDXphyBbfcx3",
      "execution_count": 54,
      "outputs": []
    },
    {
      "cell_type": "markdown",
      "id": "5596f804-7ae4-449c-aca0-c39b8c7880c7",
      "metadata": {
        "id": "5596f804-7ae4-449c-aca0-c39b8c7880c7"
      },
      "source": [
        "Voilà!"
      ]
    },
    {
      "cell_type": "code",
      "execution_count": 55,
      "id": "455b4552-cd3f-4b0c-bbd7-029a094c176c",
      "metadata": {
        "id": "455b4552-cd3f-4b0c-bbd7-029a094c176c",
        "outputId": "d79fdb2c-b148-4610-af7b-93d11912c39f",
        "colab": {
          "base_uri": "https://localhost:8080/"
        }
      },
      "outputs": [
        {
          "output_type": "execute_result",
          "data": {
            "text/plain": [
              "(torch.Size([4, 51]), torch.Size([4, 51]), torch.Size([4, 51]))"
            ]
          },
          "metadata": {},
          "execution_count": 55
        }
      ],
      "source": [
        "input_ids.shape, attention_mask.shape, labels.shape"
      ]
    },
    {
      "cell_type": "code",
      "execution_count": 56,
      "id": "ae0b37c0-2565-4ee1-beb8-304e2d4a44b7",
      "metadata": {
        "id": "ae0b37c0-2565-4ee1-beb8-304e2d4a44b7",
        "outputId": "51e1fba5-2257-4c37-e9ac-8c56bf4ec590",
        "colab": {
          "base_uri": "https://localhost:8080/"
        }
      },
      "outputs": [
        {
          "output_type": "execute_result",
          "data": {
            "text/plain": [
              "tensor([[  101,   186, 16583, 12929,   125,   111,   333,  3135, 30116, 10689,\n",
              "           253,  9812,  4449,   188, 17504,   146,   111,  9794,  5903, 18325,\n",
              "           211,   102,     0,     0,     0,     0,     0,     0,     0,     0,\n",
              "             0,     0,     0,     0,     0,     0,     0,     0,     0,     0,\n",
              "             0,     0,     0,     0,     0,     0,     0,     0,     0,     0,\n",
              "             0],\n",
              "        [  101,   186, 14012,  2504,  2899,   105,  1155,  5991,  1129,   942,\n",
              "         23994, 16861, 30113, 28294,   430,   188, 15409, 14881,   125,   111,\n",
              "          2185, 18542,  1346,   430, 25549, 11189, 12199, 30108, 15396, 30108,\n",
              "           136,  1326,  1877,  6409,  2979,   125,   111, 12551, 19647, 10050,\n",
              "           430, 15463,   111,  2891,   125,  4572, 17691,  5812,   945,   211,\n",
              "           102],\n",
              "        [  101,   186,  2654, 19218,   125,   111,  4523, 21055,  8197,   253,\n",
              "           148, 30141,   243, 30129,   194, 30129,   211,   102,     0,     0,\n",
              "             0,     0,     0,     0,     0,     0,     0,     0,     0,     0,\n",
              "             0,     0,     0,     0,     0,     0,     0,     0,     0,     0,\n",
              "             0,     0,     0,     0,     0,     0,     0,     0,     0,     0,\n",
              "             0],\n",
              "        [  101, 29203,   273,  2170,   210, 19241, 19079, 16556,   211,   102,\n",
              "             0,     0,     0,     0,     0,     0,     0,     0,     0,     0,\n",
              "             0,     0,     0,     0,     0,     0,     0,     0,     0,     0,\n",
              "             0,     0,     0,     0,     0,     0,     0,     0,     0,     0,\n",
              "             0,     0,     0,     0,     0,     0,     0,     0,     0,     0,\n",
              "             0]], device='cuda:0')"
            ]
          },
          "metadata": {},
          "execution_count": 56
        }
      ],
      "source": [
        "input_ids"
      ]
    },
    {
      "cell_type": "code",
      "execution_count": 57,
      "id": "e59e96d7-2fd8-42a9-a887-ba9f960e9297",
      "metadata": {
        "id": "e59e96d7-2fd8-42a9-a887-ba9f960e9297",
        "outputId": "41144dbc-2317-44c9-edf0-11d61384668c",
        "colab": {
          "base_uri": "https://localhost:8080/"
        }
      },
      "outputs": [
        {
          "output_type": "execute_result",
          "data": {
            "text/plain": [
              "tensor([[-100,    0,    0,    0,    0,    0,    0,    0,    0,    0,    0,    0,\n",
              "            0,    0,    0,    0,    0,    0,    0,    0,    0, -100, -100, -100,\n",
              "         -100, -100, -100, -100, -100, -100, -100, -100, -100, -100, -100, -100,\n",
              "         -100, -100, -100, -100, -100, -100, -100, -100, -100, -100, -100, -100,\n",
              "         -100, -100, -100],\n",
              "        [-100,    0,    0,    0,    0,    0,    0,    1,    2,    2,    2,    2,\n",
              "            2,    2,    0,    0,    1,    2,    2,    2,    2,    2,    2,    0,\n",
              "            0,    0,    0,    0,    0,    0,    0,    0,    0,    0,    0,    0,\n",
              "            0,    0,    0,    0,    0,    0,    0,    0,    0,    1,    2,    2,\n",
              "            2,    0, -100],\n",
              "        [-100,    0,    0,    0,    0,    0,    0,    0,    0,    0,    0,    0,\n",
              "            0,    0,    0,    0,    0, -100, -100, -100, -100, -100, -100, -100,\n",
              "         -100, -100, -100, -100, -100, -100, -100, -100, -100, -100, -100, -100,\n",
              "         -100, -100, -100, -100, -100, -100, -100, -100, -100, -100, -100, -100,\n",
              "         -100, -100, -100],\n",
              "        [-100,    0,    0,    0,    0,    0,    1,    2,    0, -100, -100, -100,\n",
              "         -100, -100, -100, -100, -100, -100, -100, -100, -100, -100, -100, -100,\n",
              "         -100, -100, -100, -100, -100, -100, -100, -100, -100, -100, -100, -100,\n",
              "         -100, -100, -100, -100, -100, -100, -100, -100, -100, -100, -100, -100,\n",
              "         -100, -100, -100]], device='cuda:0')"
            ]
          },
          "metadata": {},
          "execution_count": 57
        }
      ],
      "source": [
        "labels"
      ]
    },
    {
      "cell_type": "code",
      "execution_count": 58,
      "id": "706e519a-ff5a-4fef-8310-68ba3350ee6a",
      "metadata": {
        "id": "706e519a-ff5a-4fef-8310-68ba3350ee6a",
        "outputId": "e92447fd-f7d3-4357-e9f7-a4df6d73bf50",
        "colab": {
          "base_uri": "https://localhost:8080/"
        }
      },
      "outputs": [
        {
          "output_type": "execute_result",
          "data": {
            "text/plain": [
              "tensor([[1, 1, 1, 1, 1, 1, 1, 1, 1, 1, 1, 1, 1, 1, 1, 1, 1, 1, 1, 1, 1, 1, 1, 1,\n",
              "         1, 1, 1, 1, 1, 1, 1, 1, 1, 1, 1, 1, 1, 1, 1, 1, 1, 1, 1, 1, 1, 1, 1, 1,\n",
              "         1, 1, 1],\n",
              "        [1, 1, 1, 1, 1, 1, 1, 1, 1, 1, 1, 1, 1, 1, 1, 1, 1, 1, 1, 1, 1, 1, 1, 1,\n",
              "         1, 1, 1, 1, 1, 1, 1, 1, 1, 1, 1, 1, 1, 1, 1, 1, 1, 1, 1, 1, 1, 1, 1, 1,\n",
              "         1, 1, 1],\n",
              "        [1, 1, 1, 1, 1, 1, 1, 1, 1, 1, 1, 1, 1, 1, 1, 1, 1, 1, 1, 1, 1, 1, 1, 1,\n",
              "         1, 1, 1, 1, 1, 1, 1, 1, 1, 1, 1, 1, 1, 1, 1, 1, 1, 1, 1, 1, 1, 1, 1, 1,\n",
              "         1, 1, 1],\n",
              "        [1, 1, 1, 1, 1, 1, 1, 1, 1, 1, 1, 1, 1, 1, 1, 1, 1, 1, 1, 1, 1, 1, 1, 1,\n",
              "         1, 1, 1, 1, 1, 1, 1, 1, 1, 1, 1, 1, 1, 1, 1, 1, 1, 1, 1, 1, 1, 1, 1, 1,\n",
              "         1, 1, 1]], device='cuda:0')"
            ]
          },
          "metadata": {},
          "execution_count": 58
        }
      ],
      "source": [
        "attention_mask"
      ]
    },
    {
      "cell_type": "markdown",
      "id": "2c53ff5d-b397-4054-be13-7481110115ca",
      "metadata": {
        "id": "2c53ff5d-b397-4054-be13-7481110115ca"
      },
      "source": [
        "# Model\n",
        "## Encoding with BERT\n",
        "\n",
        "BERT provides contextualized embeddings for all tokens in the batch"
      ]
    },
    {
      "cell_type": "code",
      "execution_count": 59,
      "id": "f3531193-7362-4125-9cc0-3dc457733408",
      "metadata": {
        "id": "f3531193-7362-4125-9cc0-3dc457733408"
      },
      "outputs": [],
      "source": [
        "output = encoder(input_ids=input_ids, attention_mask=attention_mask)"
      ]
    },
    {
      "cell_type": "code",
      "execution_count": 60,
      "id": "3bbca7b4-a90a-4d65-a82b-8319400d03d9",
      "metadata": {
        "id": "3bbca7b4-a90a-4d65-a82b-8319400d03d9",
        "outputId": "de0fb461-0358-4459-a7ec-7b1b22b70c56",
        "colab": {
          "base_uri": "https://localhost:8080/"
        }
      },
      "outputs": [
        {
          "output_type": "execute_result",
          "data": {
            "text/plain": [
              "torch.Size([4, 51, 768])"
            ]
          },
          "metadata": {},
          "execution_count": 60
        }
      ],
      "source": [
        "# (batch size, sequence length, embedding dimension)\n",
        "output.last_hidden_state.shape"
      ]
    },
    {
      "cell_type": "markdown",
      "id": "ed29cfc3-148a-405d-b453-dac541aa8b16",
      "metadata": {
        "id": "ed29cfc3-148a-405d-b453-dac541aa8b16"
      },
      "source": [
        "## Sequence Tagging\n",
        "For Named Entity Recognition, we use a simple tagging model: we simply add a linear layer on top of the encoder for multi-class classification:\n",
        "- What is the input dimension of the classifier?\n",
        "- How many classes are there?\n",
        "\n",
        "Note: this Linear classifier is really simple and **assigns a label to each token independently**. A better way to do Named Entity Recognition that we did not cover in class is to use Conditional Random Field (CRF) for **structured prediction** (basically, assign the label of a token based on the other labels already assigned).\n",
        "\n",
        "Note 2: HuggingFace's `transformers` provides built-in sequence tagging models like https://huggingface.co/docs/transformers/model_doc/bert#transformers.BertForTokenClassification which you are not allowed to use until the end of this class"
      ]
    },
    {
      "cell_type": "code",
      "execution_count": null,
      "id": "03a8d13d-bc40-4770-9746-2169086dbeb1",
      "metadata": {
        "id": "03a8d13d-bc40-4770-9746-2169086dbeb1"
      },
      "outputs": [],
      "source": [
        "class Tagger(nn.Module):\n",
        "    def __init__(self, encoder):\n",
        "        super().__init__()\n",
        "        self.encoder = encoder\n",
        "        raise NotImplementedError()\n",
        "        self.classifier = TODO\n",
        "\n",
        "    def forward(self, input_ids, attention_mask):\n",
        "        embeddings = self.encoder(input_ids=input_ids, attention_mask=attention_mask).last_hidden_state\n",
        "        raise NotImplementedError()"
      ]
    },
    {
      "cell_type": "code",
      "execution_count": null,
      "id": "4425ed87-f481-410f-b70f-48af496e1d33",
      "metadata": {
        "id": "4425ed87-f481-410f-b70f-48af496e1d33"
      },
      "outputs": [],
      "source": [
        "tagger = Tagger(encoder).cuda()"
      ]
    },
    {
      "cell_type": "code",
      "execution_count": null,
      "id": "bc2b3d00-3bf0-45a1-90ab-2cfc08b4dc57",
      "metadata": {
        "id": "bc2b3d00-3bf0-45a1-90ab-2cfc08b4dc57"
      },
      "outputs": [],
      "source": [
        "logits = tagger(input_ids, attention_mask)"
      ]
    },
    {
      "cell_type": "code",
      "execution_count": null,
      "id": "14f88bfc-9696-4424-95e8-e130ca152b91",
      "metadata": {
        "id": "14f88bfc-9696-4424-95e8-e130ca152b91",
        "outputId": "04f585d2-e965-45af-9727-eece551c7faa"
      },
      "outputs": [
        {
          "data": {
            "text/plain": [
              "torch.Size([4, 24, 3])"
            ]
          },
          "execution_count": 32,
          "metadata": {},
          "output_type": "execute_result"
        }
      ],
      "source": [
        "# (batch size, sequence length, number of classes)\n",
        "logits.shape"
      ]
    },
    {
      "cell_type": "markdown",
      "id": "8bae39df-5087-4ca2-bc75-5b9c0b3d94f5",
      "metadata": {
        "id": "8bae39df-5087-4ca2-bc75-5b9c0b3d94f5"
      },
      "source": [
        "## Loss function\n",
        "\n",
        "Use Cross-entropy to train the classifier. First compute the loss on a single batch."
      ]
    },
    {
      "cell_type": "code",
      "execution_count": null,
      "id": "4ecb085a-62e6-4089-8956-1fdf1088bf4b",
      "metadata": {
        "id": "4ecb085a-62e6-4089-8956-1fdf1088bf4b",
        "outputId": "f9a8ba1d-5aa1-467a-c563-067ae3fdd494"
      },
      "outputs": [
        {
          "data": {
            "text/plain": [
              "tensor(1.0238, device='cuda:0', grad_fn=<NllLossBackward0>)"
            ]
          },
          "execution_count": 34,
          "metadata": {},
          "output_type": "execute_result"
        }
      ],
      "source": [
        "# value may vary but you might get a loss like this one"
      ]
    },
    {
      "cell_type": "markdown",
      "id": "01791841-3c1d-4bda-ad3b-3c96884d89f4",
      "metadata": {
        "id": "01791841-3c1d-4bda-ad3b-3c96884d89f4"
      },
      "source": [
        "# Training"
      ]
    },
    {
      "cell_type": "code",
      "execution_count": null,
      "id": "c336e5ba-6c8f-466a-bf55-409ebc6d4eec",
      "metadata": {
        "id": "c336e5ba-6c8f-466a-bf55-409ebc6d4eec"
      },
      "outputs": [],
      "source": [
        "%load_ext tensorboard"
      ]
    },
    {
      "cell_type": "code",
      "execution_count": null,
      "id": "a3201f57-9850-40d5-a370-b3648725e5a1",
      "metadata": {
        "id": "a3201f57-9850-40d5-a370-b3648725e5a1"
      },
      "outputs": [],
      "source": [
        "import torch\n",
        "from torch.utils.tensorboard import SummaryWriter\n",
        "writer = SummaryWriter(\"logs/pw4\")"
      ]
    },
    {
      "cell_type": "markdown",
      "id": "b4879c4f-2931-45ec-9ab7-56f65065ea8e",
      "metadata": {
        "id": "b4879c4f-2931-45ec-9ab7-56f65065ea8e"
      },
      "source": [
        "Run tensorboard before training. Refresh during training."
      ]
    },
    {
      "cell_type": "code",
      "execution_count": null,
      "id": "9cd9a77a-c425-400a-a3e9-f04b9b825f39",
      "metadata": {
        "id": "9cd9a77a-c425-400a-a3e9-f04b9b825f39",
        "outputId": "270349e3-92ca-4699-d19d-81ce918b27c6"
      },
      "outputs": [
        {
          "data": {
            "text/html": [
              "\n",
              "      <iframe id=\"tensorboard-frame-85689103f81553f1\" width=\"100%\" height=\"800\" frameborder=\"0\">\n",
              "      </iframe>\n",
              "      <script>\n",
              "        (function() {\n",
              "          const frame = document.getElementById(\"tensorboard-frame-85689103f81553f1\");\n",
              "          const url = new URL(\"/\", window.location);\n",
              "          const port = 6006;\n",
              "          if (port) {\n",
              "            url.port = port;\n",
              "          }\n",
              "          frame.src = url;\n",
              "        })();\n",
              "      </script>\n",
              "    "
            ],
            "text/plain": [
              "<IPython.core.display.HTML object>"
            ]
          },
          "metadata": {},
          "output_type": "display_data"
        }
      ],
      "source": [
        "%tensorboard --logdir logs/pw4"
      ]
    },
    {
      "cell_type": "code",
      "execution_count": null,
      "id": "2f422710-3993-414a-9f3b-85a834504e5c",
      "metadata": {
        "id": "2f422710-3993-414a-9f3b-85a834504e5c"
      },
      "outputs": [],
      "source": [
        "tagger = Tagger(encoder).cuda()\n",
        "# gradient checkpoint: lower memory footprint but you need to compute forward passes twice\n",
        "tagger.encoder.gradient_checkpointing_enable()\n",
        "\n",
        "loss_fct = nn.CrossEntropyLoss(ignore_index=-100)\n",
        "\n",
        "\n",
        "\n",
        "optimizer = torch.optim.AdamW(tagger.parameters(), lr=0.0001)\n",
        "\n",
        "batch_size = 8\n",
        "train_loader = torch.utils.data.DataLoader(train_set, batch_size=batch_size, shuffle=True, collate_fn=lambda x: x)\n",
        "validation_loader = torch.utils.data.DataLoader(dev_set, batch_size=batch_size, shuffle=False, collate_fn=lambda x: x)\n",
        "\n",
        "steps = 0\n",
        "for epoch in range(5):\n",
        "    for batch in train_loader:\n",
        "        raise NotImplementedError(\"Format batch and compute loss as you did above\")\n",
        "        loss = TODO\n",
        "\n",
        "        writer.add_scalar(\"Loss/train\", loss.item(), steps)\n",
        "        steps += 1\n",
        "        loss.backward()\n",
        "        # gradient clipping to avoid exploding gradients\n",
        "        nn.utils.clip_grad_norm_(tagger.parameters(), 1.0)\n",
        "        optimizer.step()\n",
        "\n",
        "    # validation\n",
        "    with torch.no_grad():\n",
        "        tagger.eval()\n",
        "        valid_loss = 0\n",
        "        valid_batches = 0\n",
        "        for batch in validation_loader:\n",
        "            raise NotImplementedError(\"Format batch and compute loss as you did above\")\n",
        "            loss = TODO\n",
        "            valid_loss += loss.item()\n",
        "            valid_batches += 1\n",
        "        tagger.train()\n",
        "        writer.add_scalar(\"Loss/validation\", valid_loss/valid_batches, epoch)\n",
        "\n",
        "    # saving checkpoint\n",
        "    torch.save(tagger.state_dict(), f\"tagger_{epoch}.pt\")"
      ]
    },
    {
      "cell_type": "markdown",
      "id": "f12b7c7b-af7d-4bb8-a750-e364bcc8d8f1",
      "metadata": {
        "id": "f12b7c7b-af7d-4bb8-a750-e364bcc8d8f1"
      },
      "source": [
        "# Testing\n",
        "\n",
        "Notice that the model quickly overfits (after 1 epoch?) given the small size of the training steps. Load the best checkpoint according to the validation loss (epoch 1 in my case)"
      ]
    },
    {
      "cell_type": "code",
      "execution_count": null,
      "id": "db1c7e26-3333-418f-930a-ac7b76dff4ee",
      "metadata": {
        "id": "db1c7e26-3333-418f-930a-ac7b76dff4ee",
        "outputId": "d2f1df02-9f5e-474e-f77b-bb2c0f9be383"
      },
      "outputs": [
        {
          "name": "stderr",
          "output_type": "stream",
          "text": [
            "/tmp/ipykernel_9055/4253622363.py:1: FutureWarning: You are using `torch.load` with `weights_only=False` (the current default value), which uses the default pickle module implicitly. It is possible to construct malicious pickle data which will execute arbitrary code during unpickling (See https://github.com/pytorch/pytorch/blob/main/SECURITY.md#untrusted-models for more details). In a future release, the default value for `weights_only` will be flipped to `True`. This limits the functions that could be executed during unpickling. Arbitrary objects will no longer be allowed to be loaded via this mode unless they are explicitly allowlisted by the user via `torch.serialization.add_safe_globals`. We recommend you start setting `weights_only=True` for any use case where you don't have full control of the loaded file. Please open an issue on GitHub for any issues related to this experimental feature.\n",
            "  tagger.load_state_dict(torch.load(\"tagger_0.pt\"))\n"
          ]
        },
        {
          "data": {
            "text/plain": [
              "Tagger(\n",
              "  (encoder): BertModel(\n",
              "    (embeddings): BertEmbeddings(\n",
              "      (word_embeddings): Embedding(31116, 768, padding_idx=0)\n",
              "      (position_embeddings): Embedding(512, 768)\n",
              "      (token_type_embeddings): Embedding(2, 768)\n",
              "      (LayerNorm): LayerNorm((768,), eps=1e-12, elementwise_affine=True)\n",
              "      (dropout): Dropout(p=0.1, inplace=False)\n",
              "    )\n",
              "    (encoder): BertEncoder(\n",
              "      (layer): ModuleList(\n",
              "        (0-11): 12 x BertLayer(\n",
              "          (attention): BertAttention(\n",
              "            (self): BertSdpaSelfAttention(\n",
              "              (query): Linear(in_features=768, out_features=768, bias=True)\n",
              "              (key): Linear(in_features=768, out_features=768, bias=True)\n",
              "              (value): Linear(in_features=768, out_features=768, bias=True)\n",
              "              (dropout): Dropout(p=0.1, inplace=False)\n",
              "            )\n",
              "            (output): BertSelfOutput(\n",
              "              (dense): Linear(in_features=768, out_features=768, bias=True)\n",
              "              (LayerNorm): LayerNorm((768,), eps=1e-12, elementwise_affine=True)\n",
              "              (dropout): Dropout(p=0.1, inplace=False)\n",
              "            )\n",
              "          )\n",
              "          (intermediate): BertIntermediate(\n",
              "            (dense): Linear(in_features=768, out_features=3072, bias=True)\n",
              "            (intermediate_act_fn): GELUActivation()\n",
              "          )\n",
              "          (output): BertOutput(\n",
              "            (dense): Linear(in_features=3072, out_features=768, bias=True)\n",
              "            (LayerNorm): LayerNorm((768,), eps=1e-12, elementwise_affine=True)\n",
              "            (dropout): Dropout(p=0.1, inplace=False)\n",
              "          )\n",
              "        )\n",
              "      )\n",
              "    )\n",
              "  )\n",
              "  (classifier): Linear(in_features=768, out_features=3, bias=True)\n",
              ")"
            ]
          },
          "execution_count": 24,
          "metadata": {},
          "output_type": "execute_result"
        }
      ],
      "source": [
        "tagger.load_state_dict(torch.load(\"tagger_0.pt\"))\n",
        "tagger.eval()"
      ]
    },
    {
      "cell_type": "code",
      "execution_count": null,
      "id": "470bf08a-c0ed-45f7-a17f-f6ec45dc5712",
      "metadata": {
        "id": "470bf08a-c0ed-45f7-a17f-f6ec45dc5712",
        "outputId": "51e323fe-d563-4906-b558-a4fa4e3a9acb"
      },
      "outputs": [
        {
          "data": {
            "text/plain": [
              "{'O': 0, 'B-ety': 1, 'I-ety': 2}"
            ]
          },
          "execution_count": 39,
          "metadata": {},
          "output_type": "execute_result"
        }
      ],
      "source": [
        "LABELS"
      ]
    },
    {
      "cell_type": "markdown",
      "id": "cc589eb3-c34d-4e24-8bf7-da00cc594d64",
      "metadata": {
        "id": "cc589eb3-c34d-4e24-8bf7-da00cc594d64"
      },
      "source": [
        "Now run your model on your test set. This time we're not only interested in a low loss but in the actual predictions of the models:\n",
        "- How to get the class predicted by your model on each token?\n",
        "\n",
        "Once you get classes, compute:\n",
        "- precision (of classifying 'B-ety' and 'I-ety')\n",
        "- recall (of classifying 'B-ety' and 'I-ety')\n",
        "- F1-score (of classifying 'B-ety' and 'I-ety')\n",
        "\n",
        "Bonus: what is the issue with computing scores on tokens tokenized using BERT tokenizer?"
      ]
    },
    {
      "cell_type": "code",
      "execution_count": null,
      "id": "e1d41849-2fb2-420c-b474-3981122d29e2",
      "metadata": {
        "scrolled": true,
        "id": "e1d41849-2fb2-420c-b474-3981122d29e2",
        "outputId": "f10cb51c-fec2-497b-a41f-3cbe84f44df2"
      },
      "outputs": [
        {
          "data": {
            "text/plain": [
              "[('[CLS]', 'O'),\n",
              " ('Given', 'O'),\n",
              " ('the', 'O'),\n",
              " ('positive', 'O'),\n",
              " ('screen', 'O'),\n",
              " ('for', 'O'),\n",
              " ('ce', 'B-ety'),\n",
              " ('##li', 'I-ety'),\n",
              " ('##ac', 'I-ety'),\n",
              " ('disease', 'I-ety'),\n",
              " ('(', 'O'),\n",
              " ('positive', 'O'),\n",
              " ('anti', 'O'),\n",
              " ('-', 'O'),\n",
              " ('tissue', 'O'),\n",
              " ('trans', 'O'),\n",
              " ('##glut', 'O'),\n",
              " ('##aminase', 'O'),\n",
              " ('antibodies', 'O'),\n",
              " ('and', 'O'),\n",
              " ('results', 'O'),\n",
              " ('of', 'O'),\n",
              " ('duoden', 'O'),\n",
              " ('##al', 'O'),\n",
              " ('biopsy', 'O'),\n",
              " (')', 'O'),\n",
              " (',', 'O'),\n",
              " ('dietary', 'O'),\n",
              " ('intervention', 'O'),\n",
              " ('was', 'O'),\n",
              " ('immediately', 'O'),\n",
              " ('comm', 'O'),\n",
              " ('##enced', 'O'),\n",
              " ('.', 'O'),\n",
              " ('[SEP]', 'O')]"
            ]
          },
          "execution_count": 68,
          "metadata": {},
          "output_type": "execute_result"
        }
      ],
      "source": [
        "# example prediction of my model"
      ]
    },
    {
      "cell_type": "code",
      "execution_count": null,
      "id": "17d383ab-496c-44a1-8939-721eff7476b4",
      "metadata": {
        "id": "17d383ab-496c-44a1-8939-721eff7476b4"
      },
      "outputs": [],
      "source": [
        "test_loader = torch.utils.data.DataLoader(test_set, batch_size=batch_size, shuffle=False, collate_fn=lambda x: x)\n",
        "for batch in test_loader:\n",
        "    raise NotImplementedError()"
      ]
    },
    {
      "cell_type": "markdown",
      "id": "0bdc836f-2228-42be-9c6d-282d29dd896b",
      "metadata": {
        "id": "0bdc836f-2228-42be-9c6d-282d29dd896b"
      },
      "source": [
        "The result is pretty bad but consider we use a very small training set"
      ]
    },
    {
      "cell_type": "code",
      "execution_count": null,
      "id": "325be978-d796-4c5b-b7af-e71f90e0b314",
      "metadata": {
        "id": "325be978-d796-4c5b-b7af-e71f90e0b314",
        "outputId": "b68e600d-a597-4357-aaba-3e23a93f0bcc"
      },
      "outputs": [
        {
          "name": "stdout",
          "output_type": "stream",
          "text": [
            "precision=61.3%, recall=29.3%, f_score=39.7%\n"
          ]
        }
      ],
      "source": [
        "print(f\"{precision=:.1%}, {recall=:.1%}, {f_score=:.1%}\")"
      ]
    },
    {
      "cell_type": "markdown",
      "id": "e50008d4-fada-412c-84ad-19077e469a13",
      "metadata": {
        "jp-MarkdownHeadingCollapsed": true,
        "id": "e50008d4-fada-412c-84ad-19077e469a13"
      },
      "source": [
        "# Bonus\n",
        "\n",
        "## Evaluation\n",
        "\n",
        "- Resplit the data by keeping the 426 longest texts as out-of-distribution test set. The remaining can be randomly split in train-validation.\n",
        "- Compute F1 score using detokenized outputs\n",
        "\n",
        "## Parameter-efficient fine-tuning\n",
        "\n",
        "Compare full fine-tuning like above with LoRA\n",
        "\n",
        "## More encoders\n",
        "\n",
        "Evaluate other models, e.g.:\n",
        "- another encoder, e.g. BERT or RoBERTa that were trained on general domain texts or https://huggingface.co/medicalai/ClinicalBERT that was trained on clinical texts\n",
        "- a decoder-only like GPT-2\n",
        "- an encoder-decoder like BART\n",
        "\n",
        "## Better classifiers\n",
        "\n",
        "use Conditional Random Field (CRF) instead of a linear classifier"
      ]
    }
  ],
  "metadata": {
    "kernelspec": {
      "display_name": "Python 3",
      "name": "python3"
    },
    "language_info": {
      "codemirror_mode": {
        "name": "ipython",
        "version": 3
      },
      "file_extension": ".py",
      "mimetype": "text/x-python",
      "name": "python",
      "nbconvert_exporter": "python",
      "pygments_lexer": "ipython3",
      "version": "3.10.15"
    },
    "colab": {
      "provenance": [],
      "machine_shape": "hm",
      "gpuType": "A100"
    },
    "accelerator": "GPU",
    "widgets": {
      "application/vnd.jupyter.widget-state+json": {
        "e1929de9fb994744813abde502654124": {
          "model_module": "@jupyter-widgets/controls",
          "model_name": "HBoxModel",
          "model_module_version": "1.5.0",
          "state": {
            "_dom_classes": [],
            "_model_module": "@jupyter-widgets/controls",
            "_model_module_version": "1.5.0",
            "_model_name": "HBoxModel",
            "_view_count": null,
            "_view_module": "@jupyter-widgets/controls",
            "_view_module_version": "1.5.0",
            "_view_name": "HBoxView",
            "box_style": "",
            "children": [
              "IPY_MODEL_65016f8adb5f4921b636fa2dc1d65612",
              "IPY_MODEL_1238c5b8ce3a44498b9be734e2ae93d9",
              "IPY_MODEL_c8e8d597b0bc4fd2a1134337bb05311b"
            ],
            "layout": "IPY_MODEL_dd45839a29794b48a95cb227dd012fd3"
          }
        },
        "65016f8adb5f4921b636fa2dc1d65612": {
          "model_module": "@jupyter-widgets/controls",
          "model_name": "HTMLModel",
          "model_module_version": "1.5.0",
          "state": {
            "_dom_classes": [],
            "_model_module": "@jupyter-widgets/controls",
            "_model_module_version": "1.5.0",
            "_model_name": "HTMLModel",
            "_view_count": null,
            "_view_module": "@jupyter-widgets/controls",
            "_view_module_version": "1.5.0",
            "_view_name": "HTMLView",
            "description": "",
            "description_tooltip": null,
            "layout": "IPY_MODEL_9e71ec08a3004406abb180b9b59a64a5",
            "placeholder": "​",
            "style": "IPY_MODEL_98c796afdecc429b81f3ab3107660539",
            "value": "config.json: 100%"
          }
        },
        "1238c5b8ce3a44498b9be734e2ae93d9": {
          "model_module": "@jupyter-widgets/controls",
          "model_name": "FloatProgressModel",
          "model_module_version": "1.5.0",
          "state": {
            "_dom_classes": [],
            "_model_module": "@jupyter-widgets/controls",
            "_model_module_version": "1.5.0",
            "_model_name": "FloatProgressModel",
            "_view_count": null,
            "_view_module": "@jupyter-widgets/controls",
            "_view_module_version": "1.5.0",
            "_view_name": "ProgressView",
            "bar_style": "success",
            "description": "",
            "description_tooltip": null,
            "layout": "IPY_MODEL_a3d37a6be41d42a893ab3b1201ccc017",
            "max": 385,
            "min": 0,
            "orientation": "horizontal",
            "style": "IPY_MODEL_dbf615e5470a42b5ac884ed239c39390",
            "value": 385
          }
        },
        "c8e8d597b0bc4fd2a1134337bb05311b": {
          "model_module": "@jupyter-widgets/controls",
          "model_name": "HTMLModel",
          "model_module_version": "1.5.0",
          "state": {
            "_dom_classes": [],
            "_model_module": "@jupyter-widgets/controls",
            "_model_module_version": "1.5.0",
            "_model_name": "HTMLModel",
            "_view_count": null,
            "_view_module": "@jupyter-widgets/controls",
            "_view_module_version": "1.5.0",
            "_view_name": "HTMLView",
            "description": "",
            "description_tooltip": null,
            "layout": "IPY_MODEL_299200dc349f4ef6a801106ee7e1f463",
            "placeholder": "​",
            "style": "IPY_MODEL_382c722b0d3e4357880778a671f693ed",
            "value": " 385/385 [00:00&lt;00:00, 44.0kB/s]"
          }
        },
        "dd45839a29794b48a95cb227dd012fd3": {
          "model_module": "@jupyter-widgets/base",
          "model_name": "LayoutModel",
          "model_module_version": "1.2.0",
          "state": {
            "_model_module": "@jupyter-widgets/base",
            "_model_module_version": "1.2.0",
            "_model_name": "LayoutModel",
            "_view_count": null,
            "_view_module": "@jupyter-widgets/base",
            "_view_module_version": "1.2.0",
            "_view_name": "LayoutView",
            "align_content": null,
            "align_items": null,
            "align_self": null,
            "border": null,
            "bottom": null,
            "display": null,
            "flex": null,
            "flex_flow": null,
            "grid_area": null,
            "grid_auto_columns": null,
            "grid_auto_flow": null,
            "grid_auto_rows": null,
            "grid_column": null,
            "grid_gap": null,
            "grid_row": null,
            "grid_template_areas": null,
            "grid_template_columns": null,
            "grid_template_rows": null,
            "height": null,
            "justify_content": null,
            "justify_items": null,
            "left": null,
            "margin": null,
            "max_height": null,
            "max_width": null,
            "min_height": null,
            "min_width": null,
            "object_fit": null,
            "object_position": null,
            "order": null,
            "overflow": null,
            "overflow_x": null,
            "overflow_y": null,
            "padding": null,
            "right": null,
            "top": null,
            "visibility": null,
            "width": null
          }
        },
        "9e71ec08a3004406abb180b9b59a64a5": {
          "model_module": "@jupyter-widgets/base",
          "model_name": "LayoutModel",
          "model_module_version": "1.2.0",
          "state": {
            "_model_module": "@jupyter-widgets/base",
            "_model_module_version": "1.2.0",
            "_model_name": "LayoutModel",
            "_view_count": null,
            "_view_module": "@jupyter-widgets/base",
            "_view_module_version": "1.2.0",
            "_view_name": "LayoutView",
            "align_content": null,
            "align_items": null,
            "align_self": null,
            "border": null,
            "bottom": null,
            "display": null,
            "flex": null,
            "flex_flow": null,
            "grid_area": null,
            "grid_auto_columns": null,
            "grid_auto_flow": null,
            "grid_auto_rows": null,
            "grid_column": null,
            "grid_gap": null,
            "grid_row": null,
            "grid_template_areas": null,
            "grid_template_columns": null,
            "grid_template_rows": null,
            "height": null,
            "justify_content": null,
            "justify_items": null,
            "left": null,
            "margin": null,
            "max_height": null,
            "max_width": null,
            "min_height": null,
            "min_width": null,
            "object_fit": null,
            "object_position": null,
            "order": null,
            "overflow": null,
            "overflow_x": null,
            "overflow_y": null,
            "padding": null,
            "right": null,
            "top": null,
            "visibility": null,
            "width": null
          }
        },
        "98c796afdecc429b81f3ab3107660539": {
          "model_module": "@jupyter-widgets/controls",
          "model_name": "DescriptionStyleModel",
          "model_module_version": "1.5.0",
          "state": {
            "_model_module": "@jupyter-widgets/controls",
            "_model_module_version": "1.5.0",
            "_model_name": "DescriptionStyleModel",
            "_view_count": null,
            "_view_module": "@jupyter-widgets/base",
            "_view_module_version": "1.2.0",
            "_view_name": "StyleView",
            "description_width": ""
          }
        },
        "a3d37a6be41d42a893ab3b1201ccc017": {
          "model_module": "@jupyter-widgets/base",
          "model_name": "LayoutModel",
          "model_module_version": "1.2.0",
          "state": {
            "_model_module": "@jupyter-widgets/base",
            "_model_module_version": "1.2.0",
            "_model_name": "LayoutModel",
            "_view_count": null,
            "_view_module": "@jupyter-widgets/base",
            "_view_module_version": "1.2.0",
            "_view_name": "LayoutView",
            "align_content": null,
            "align_items": null,
            "align_self": null,
            "border": null,
            "bottom": null,
            "display": null,
            "flex": null,
            "flex_flow": null,
            "grid_area": null,
            "grid_auto_columns": null,
            "grid_auto_flow": null,
            "grid_auto_rows": null,
            "grid_column": null,
            "grid_gap": null,
            "grid_row": null,
            "grid_template_areas": null,
            "grid_template_columns": null,
            "grid_template_rows": null,
            "height": null,
            "justify_content": null,
            "justify_items": null,
            "left": null,
            "margin": null,
            "max_height": null,
            "max_width": null,
            "min_height": null,
            "min_width": null,
            "object_fit": null,
            "object_position": null,
            "order": null,
            "overflow": null,
            "overflow_x": null,
            "overflow_y": null,
            "padding": null,
            "right": null,
            "top": null,
            "visibility": null,
            "width": null
          }
        },
        "dbf615e5470a42b5ac884ed239c39390": {
          "model_module": "@jupyter-widgets/controls",
          "model_name": "ProgressStyleModel",
          "model_module_version": "1.5.0",
          "state": {
            "_model_module": "@jupyter-widgets/controls",
            "_model_module_version": "1.5.0",
            "_model_name": "ProgressStyleModel",
            "_view_count": null,
            "_view_module": "@jupyter-widgets/base",
            "_view_module_version": "1.2.0",
            "_view_name": "StyleView",
            "bar_color": null,
            "description_width": ""
          }
        },
        "299200dc349f4ef6a801106ee7e1f463": {
          "model_module": "@jupyter-widgets/base",
          "model_name": "LayoutModel",
          "model_module_version": "1.2.0",
          "state": {
            "_model_module": "@jupyter-widgets/base",
            "_model_module_version": "1.2.0",
            "_model_name": "LayoutModel",
            "_view_count": null,
            "_view_module": "@jupyter-widgets/base",
            "_view_module_version": "1.2.0",
            "_view_name": "LayoutView",
            "align_content": null,
            "align_items": null,
            "align_self": null,
            "border": null,
            "bottom": null,
            "display": null,
            "flex": null,
            "flex_flow": null,
            "grid_area": null,
            "grid_auto_columns": null,
            "grid_auto_flow": null,
            "grid_auto_rows": null,
            "grid_column": null,
            "grid_gap": null,
            "grid_row": null,
            "grid_template_areas": null,
            "grid_template_columns": null,
            "grid_template_rows": null,
            "height": null,
            "justify_content": null,
            "justify_items": null,
            "left": null,
            "margin": null,
            "max_height": null,
            "max_width": null,
            "min_height": null,
            "min_width": null,
            "object_fit": null,
            "object_position": null,
            "order": null,
            "overflow": null,
            "overflow_x": null,
            "overflow_y": null,
            "padding": null,
            "right": null,
            "top": null,
            "visibility": null,
            "width": null
          }
        },
        "382c722b0d3e4357880778a671f693ed": {
          "model_module": "@jupyter-widgets/controls",
          "model_name": "DescriptionStyleModel",
          "model_module_version": "1.5.0",
          "state": {
            "_model_module": "@jupyter-widgets/controls",
            "_model_module_version": "1.5.0",
            "_model_name": "DescriptionStyleModel",
            "_view_count": null,
            "_view_module": "@jupyter-widgets/base",
            "_view_module_version": "1.2.0",
            "_view_name": "StyleView",
            "description_width": ""
          }
        },
        "3d6c8f8770364b50bc467582efe80e09": {
          "model_module": "@jupyter-widgets/controls",
          "model_name": "HBoxModel",
          "model_module_version": "1.5.0",
          "state": {
            "_dom_classes": [],
            "_model_module": "@jupyter-widgets/controls",
            "_model_module_version": "1.5.0",
            "_model_name": "HBoxModel",
            "_view_count": null,
            "_view_module": "@jupyter-widgets/controls",
            "_view_module_version": "1.5.0",
            "_view_name": "HBoxView",
            "box_style": "",
            "children": [
              "IPY_MODEL_9c441e3873494d95b3fd9142dc9de37a",
              "IPY_MODEL_e2cd325bdaea494da1843c43f5110bfc",
              "IPY_MODEL_f66a1a03200d4cdda91f3d8fa9b9f518"
            ],
            "layout": "IPY_MODEL_a3342982f21a4f82a6f4583a8c81f8c5"
          }
        },
        "9c441e3873494d95b3fd9142dc9de37a": {
          "model_module": "@jupyter-widgets/controls",
          "model_name": "HTMLModel",
          "model_module_version": "1.5.0",
          "state": {
            "_dom_classes": [],
            "_model_module": "@jupyter-widgets/controls",
            "_model_module_version": "1.5.0",
            "_model_name": "HTMLModel",
            "_view_count": null,
            "_view_module": "@jupyter-widgets/controls",
            "_view_module_version": "1.5.0",
            "_view_name": "HTMLView",
            "description": "",
            "description_tooltip": null,
            "layout": "IPY_MODEL_7f1ad2f006b3453589b4f8565932a913",
            "placeholder": "​",
            "style": "IPY_MODEL_5bca7521b1a94fd19fd75be1bb95a0dc",
            "value": "pytorch_model.bin: 100%"
          }
        },
        "e2cd325bdaea494da1843c43f5110bfc": {
          "model_module": "@jupyter-widgets/controls",
          "model_name": "FloatProgressModel",
          "model_module_version": "1.5.0",
          "state": {
            "_dom_classes": [],
            "_model_module": "@jupyter-widgets/controls",
            "_model_module_version": "1.5.0",
            "_model_name": "FloatProgressModel",
            "_view_count": null,
            "_view_module": "@jupyter-widgets/controls",
            "_view_module_version": "1.5.0",
            "_view_name": "ProgressView",
            "bar_style": "success",
            "description": "",
            "description_tooltip": null,
            "layout": "IPY_MODEL_e893890cc5d4430caee4a84b62522f21",
            "max": 442301670,
            "min": 0,
            "orientation": "horizontal",
            "style": "IPY_MODEL_2084ac5184c047bf9f1309a89cdb598c",
            "value": 442301670
          }
        },
        "f66a1a03200d4cdda91f3d8fa9b9f518": {
          "model_module": "@jupyter-widgets/controls",
          "model_name": "HTMLModel",
          "model_module_version": "1.5.0",
          "state": {
            "_dom_classes": [],
            "_model_module": "@jupyter-widgets/controls",
            "_model_module_version": "1.5.0",
            "_model_name": "HTMLModel",
            "_view_count": null,
            "_view_module": "@jupyter-widgets/controls",
            "_view_module_version": "1.5.0",
            "_view_name": "HTMLView",
            "description": "",
            "description_tooltip": null,
            "layout": "IPY_MODEL_ee7622305c1f464daa657767754d05b3",
            "placeholder": "​",
            "style": "IPY_MODEL_b69b4a285c3a404e9fde0bb6435cc9e8",
            "value": " 442M/442M [00:01&lt;00:00, 217MB/s]"
          }
        },
        "a3342982f21a4f82a6f4583a8c81f8c5": {
          "model_module": "@jupyter-widgets/base",
          "model_name": "LayoutModel",
          "model_module_version": "1.2.0",
          "state": {
            "_model_module": "@jupyter-widgets/base",
            "_model_module_version": "1.2.0",
            "_model_name": "LayoutModel",
            "_view_count": null,
            "_view_module": "@jupyter-widgets/base",
            "_view_module_version": "1.2.0",
            "_view_name": "LayoutView",
            "align_content": null,
            "align_items": null,
            "align_self": null,
            "border": null,
            "bottom": null,
            "display": null,
            "flex": null,
            "flex_flow": null,
            "grid_area": null,
            "grid_auto_columns": null,
            "grid_auto_flow": null,
            "grid_auto_rows": null,
            "grid_column": null,
            "grid_gap": null,
            "grid_row": null,
            "grid_template_areas": null,
            "grid_template_columns": null,
            "grid_template_rows": null,
            "height": null,
            "justify_content": null,
            "justify_items": null,
            "left": null,
            "margin": null,
            "max_height": null,
            "max_width": null,
            "min_height": null,
            "min_width": null,
            "object_fit": null,
            "object_position": null,
            "order": null,
            "overflow": null,
            "overflow_x": null,
            "overflow_y": null,
            "padding": null,
            "right": null,
            "top": null,
            "visibility": null,
            "width": null
          }
        },
        "7f1ad2f006b3453589b4f8565932a913": {
          "model_module": "@jupyter-widgets/base",
          "model_name": "LayoutModel",
          "model_module_version": "1.2.0",
          "state": {
            "_model_module": "@jupyter-widgets/base",
            "_model_module_version": "1.2.0",
            "_model_name": "LayoutModel",
            "_view_count": null,
            "_view_module": "@jupyter-widgets/base",
            "_view_module_version": "1.2.0",
            "_view_name": "LayoutView",
            "align_content": null,
            "align_items": null,
            "align_self": null,
            "border": null,
            "bottom": null,
            "display": null,
            "flex": null,
            "flex_flow": null,
            "grid_area": null,
            "grid_auto_columns": null,
            "grid_auto_flow": null,
            "grid_auto_rows": null,
            "grid_column": null,
            "grid_gap": null,
            "grid_row": null,
            "grid_template_areas": null,
            "grid_template_columns": null,
            "grid_template_rows": null,
            "height": null,
            "justify_content": null,
            "justify_items": null,
            "left": null,
            "margin": null,
            "max_height": null,
            "max_width": null,
            "min_height": null,
            "min_width": null,
            "object_fit": null,
            "object_position": null,
            "order": null,
            "overflow": null,
            "overflow_x": null,
            "overflow_y": null,
            "padding": null,
            "right": null,
            "top": null,
            "visibility": null,
            "width": null
          }
        },
        "5bca7521b1a94fd19fd75be1bb95a0dc": {
          "model_module": "@jupyter-widgets/controls",
          "model_name": "DescriptionStyleModel",
          "model_module_version": "1.5.0",
          "state": {
            "_model_module": "@jupyter-widgets/controls",
            "_model_module_version": "1.5.0",
            "_model_name": "DescriptionStyleModel",
            "_view_count": null,
            "_view_module": "@jupyter-widgets/base",
            "_view_module_version": "1.2.0",
            "_view_name": "StyleView",
            "description_width": ""
          }
        },
        "e893890cc5d4430caee4a84b62522f21": {
          "model_module": "@jupyter-widgets/base",
          "model_name": "LayoutModel",
          "model_module_version": "1.2.0",
          "state": {
            "_model_module": "@jupyter-widgets/base",
            "_model_module_version": "1.2.0",
            "_model_name": "LayoutModel",
            "_view_count": null,
            "_view_module": "@jupyter-widgets/base",
            "_view_module_version": "1.2.0",
            "_view_name": "LayoutView",
            "align_content": null,
            "align_items": null,
            "align_self": null,
            "border": null,
            "bottom": null,
            "display": null,
            "flex": null,
            "flex_flow": null,
            "grid_area": null,
            "grid_auto_columns": null,
            "grid_auto_flow": null,
            "grid_auto_rows": null,
            "grid_column": null,
            "grid_gap": null,
            "grid_row": null,
            "grid_template_areas": null,
            "grid_template_columns": null,
            "grid_template_rows": null,
            "height": null,
            "justify_content": null,
            "justify_items": null,
            "left": null,
            "margin": null,
            "max_height": null,
            "max_width": null,
            "min_height": null,
            "min_width": null,
            "object_fit": null,
            "object_position": null,
            "order": null,
            "overflow": null,
            "overflow_x": null,
            "overflow_y": null,
            "padding": null,
            "right": null,
            "top": null,
            "visibility": null,
            "width": null
          }
        },
        "2084ac5184c047bf9f1309a89cdb598c": {
          "model_module": "@jupyter-widgets/controls",
          "model_name": "ProgressStyleModel",
          "model_module_version": "1.5.0",
          "state": {
            "_model_module": "@jupyter-widgets/controls",
            "_model_module_version": "1.5.0",
            "_model_name": "ProgressStyleModel",
            "_view_count": null,
            "_view_module": "@jupyter-widgets/base",
            "_view_module_version": "1.2.0",
            "_view_name": "StyleView",
            "bar_color": null,
            "description_width": ""
          }
        },
        "ee7622305c1f464daa657767754d05b3": {
          "model_module": "@jupyter-widgets/base",
          "model_name": "LayoutModel",
          "model_module_version": "1.2.0",
          "state": {
            "_model_module": "@jupyter-widgets/base",
            "_model_module_version": "1.2.0",
            "_model_name": "LayoutModel",
            "_view_count": null,
            "_view_module": "@jupyter-widgets/base",
            "_view_module_version": "1.2.0",
            "_view_name": "LayoutView",
            "align_content": null,
            "align_items": null,
            "align_self": null,
            "border": null,
            "bottom": null,
            "display": null,
            "flex": null,
            "flex_flow": null,
            "grid_area": null,
            "grid_auto_columns": null,
            "grid_auto_flow": null,
            "grid_auto_rows": null,
            "grid_column": null,
            "grid_gap": null,
            "grid_row": null,
            "grid_template_areas": null,
            "grid_template_columns": null,
            "grid_template_rows": null,
            "height": null,
            "justify_content": null,
            "justify_items": null,
            "left": null,
            "margin": null,
            "max_height": null,
            "max_width": null,
            "min_height": null,
            "min_width": null,
            "object_fit": null,
            "object_position": null,
            "order": null,
            "overflow": null,
            "overflow_x": null,
            "overflow_y": null,
            "padding": null,
            "right": null,
            "top": null,
            "visibility": null,
            "width": null
          }
        },
        "b69b4a285c3a404e9fde0bb6435cc9e8": {
          "model_module": "@jupyter-widgets/controls",
          "model_name": "DescriptionStyleModel",
          "model_module_version": "1.5.0",
          "state": {
            "_model_module": "@jupyter-widgets/controls",
            "_model_module_version": "1.5.0",
            "_model_name": "DescriptionStyleModel",
            "_view_count": null,
            "_view_module": "@jupyter-widgets/base",
            "_view_module_version": "1.2.0",
            "_view_name": "StyleView",
            "description_width": ""
          }
        },
        "c04aa56a7cfc4367af26dedcaed4dc6c": {
          "model_module": "@jupyter-widgets/controls",
          "model_name": "HBoxModel",
          "model_module_version": "1.5.0",
          "state": {
            "_dom_classes": [],
            "_model_module": "@jupyter-widgets/controls",
            "_model_module_version": "1.5.0",
            "_model_name": "HBoxModel",
            "_view_count": null,
            "_view_module": "@jupyter-widgets/controls",
            "_view_module_version": "1.5.0",
            "_view_name": "HBoxView",
            "box_style": "",
            "children": [
              "IPY_MODEL_baeb931d519e4f8ab51572a9c4ddb73b",
              "IPY_MODEL_338b68b96ee740af946ec30438207e51",
              "IPY_MODEL_32ddfe0aa48e44cbb36915d4b8ba2899"
            ],
            "layout": "IPY_MODEL_5df83e497d0f4bcdbb8475fb5358f9a0"
          }
        },
        "baeb931d519e4f8ab51572a9c4ddb73b": {
          "model_module": "@jupyter-widgets/controls",
          "model_name": "HTMLModel",
          "model_module_version": "1.5.0",
          "state": {
            "_dom_classes": [],
            "_model_module": "@jupyter-widgets/controls",
            "_model_module_version": "1.5.0",
            "_model_name": "HTMLModel",
            "_view_count": null,
            "_view_module": "@jupyter-widgets/controls",
            "_view_module_version": "1.5.0",
            "_view_name": "HTMLView",
            "description": "",
            "description_tooltip": null,
            "layout": "IPY_MODEL_42a4e199aa79438c91e314d286873691",
            "placeholder": "​",
            "style": "IPY_MODEL_b9b49968187a41dcbe58212f3b4d766f",
            "value": "vocab.txt: 100%"
          }
        },
        "338b68b96ee740af946ec30438207e51": {
          "model_module": "@jupyter-widgets/controls",
          "model_name": "FloatProgressModel",
          "model_module_version": "1.5.0",
          "state": {
            "_dom_classes": [],
            "_model_module": "@jupyter-widgets/controls",
            "_model_module_version": "1.5.0",
            "_model_name": "FloatProgressModel",
            "_view_count": null,
            "_view_module": "@jupyter-widgets/controls",
            "_view_module_version": "1.5.0",
            "_view_name": "ProgressView",
            "bar_style": "success",
            "description": "",
            "description_tooltip": null,
            "layout": "IPY_MODEL_789e34c98aff47f9a310936a4185faba",
            "max": 222296,
            "min": 0,
            "orientation": "horizontal",
            "style": "IPY_MODEL_31a11061fed34889ae27fe68edebe90a",
            "value": 222296
          }
        },
        "32ddfe0aa48e44cbb36915d4b8ba2899": {
          "model_module": "@jupyter-widgets/controls",
          "model_name": "HTMLModel",
          "model_module_version": "1.5.0",
          "state": {
            "_dom_classes": [],
            "_model_module": "@jupyter-widgets/controls",
            "_model_module_version": "1.5.0",
            "_model_name": "HTMLModel",
            "_view_count": null,
            "_view_module": "@jupyter-widgets/controls",
            "_view_module_version": "1.5.0",
            "_view_name": "HTMLView",
            "description": "",
            "description_tooltip": null,
            "layout": "IPY_MODEL_e4ed713305b041cebf5fd3f49fe5aca5",
            "placeholder": "​",
            "style": "IPY_MODEL_59c47c713a6446ecac1f19d7cf0cbbed",
            "value": " 222k/222k [00:00&lt;00:00, 5.33MB/s]"
          }
        },
        "5df83e497d0f4bcdbb8475fb5358f9a0": {
          "model_module": "@jupyter-widgets/base",
          "model_name": "LayoutModel",
          "model_module_version": "1.2.0",
          "state": {
            "_model_module": "@jupyter-widgets/base",
            "_model_module_version": "1.2.0",
            "_model_name": "LayoutModel",
            "_view_count": null,
            "_view_module": "@jupyter-widgets/base",
            "_view_module_version": "1.2.0",
            "_view_name": "LayoutView",
            "align_content": null,
            "align_items": null,
            "align_self": null,
            "border": null,
            "bottom": null,
            "display": null,
            "flex": null,
            "flex_flow": null,
            "grid_area": null,
            "grid_auto_columns": null,
            "grid_auto_flow": null,
            "grid_auto_rows": null,
            "grid_column": null,
            "grid_gap": null,
            "grid_row": null,
            "grid_template_areas": null,
            "grid_template_columns": null,
            "grid_template_rows": null,
            "height": null,
            "justify_content": null,
            "justify_items": null,
            "left": null,
            "margin": null,
            "max_height": null,
            "max_width": null,
            "min_height": null,
            "min_width": null,
            "object_fit": null,
            "object_position": null,
            "order": null,
            "overflow": null,
            "overflow_x": null,
            "overflow_y": null,
            "padding": null,
            "right": null,
            "top": null,
            "visibility": null,
            "width": null
          }
        },
        "42a4e199aa79438c91e314d286873691": {
          "model_module": "@jupyter-widgets/base",
          "model_name": "LayoutModel",
          "model_module_version": "1.2.0",
          "state": {
            "_model_module": "@jupyter-widgets/base",
            "_model_module_version": "1.2.0",
            "_model_name": "LayoutModel",
            "_view_count": null,
            "_view_module": "@jupyter-widgets/base",
            "_view_module_version": "1.2.0",
            "_view_name": "LayoutView",
            "align_content": null,
            "align_items": null,
            "align_self": null,
            "border": null,
            "bottom": null,
            "display": null,
            "flex": null,
            "flex_flow": null,
            "grid_area": null,
            "grid_auto_columns": null,
            "grid_auto_flow": null,
            "grid_auto_rows": null,
            "grid_column": null,
            "grid_gap": null,
            "grid_row": null,
            "grid_template_areas": null,
            "grid_template_columns": null,
            "grid_template_rows": null,
            "height": null,
            "justify_content": null,
            "justify_items": null,
            "left": null,
            "margin": null,
            "max_height": null,
            "max_width": null,
            "min_height": null,
            "min_width": null,
            "object_fit": null,
            "object_position": null,
            "order": null,
            "overflow": null,
            "overflow_x": null,
            "overflow_y": null,
            "padding": null,
            "right": null,
            "top": null,
            "visibility": null,
            "width": null
          }
        },
        "b9b49968187a41dcbe58212f3b4d766f": {
          "model_module": "@jupyter-widgets/controls",
          "model_name": "DescriptionStyleModel",
          "model_module_version": "1.5.0",
          "state": {
            "_model_module": "@jupyter-widgets/controls",
            "_model_module_version": "1.5.0",
            "_model_name": "DescriptionStyleModel",
            "_view_count": null,
            "_view_module": "@jupyter-widgets/base",
            "_view_module_version": "1.2.0",
            "_view_name": "StyleView",
            "description_width": ""
          }
        },
        "789e34c98aff47f9a310936a4185faba": {
          "model_module": "@jupyter-widgets/base",
          "model_name": "LayoutModel",
          "model_module_version": "1.2.0",
          "state": {
            "_model_module": "@jupyter-widgets/base",
            "_model_module_version": "1.2.0",
            "_model_name": "LayoutModel",
            "_view_count": null,
            "_view_module": "@jupyter-widgets/base",
            "_view_module_version": "1.2.0",
            "_view_name": "LayoutView",
            "align_content": null,
            "align_items": null,
            "align_self": null,
            "border": null,
            "bottom": null,
            "display": null,
            "flex": null,
            "flex_flow": null,
            "grid_area": null,
            "grid_auto_columns": null,
            "grid_auto_flow": null,
            "grid_auto_rows": null,
            "grid_column": null,
            "grid_gap": null,
            "grid_row": null,
            "grid_template_areas": null,
            "grid_template_columns": null,
            "grid_template_rows": null,
            "height": null,
            "justify_content": null,
            "justify_items": null,
            "left": null,
            "margin": null,
            "max_height": null,
            "max_width": null,
            "min_height": null,
            "min_width": null,
            "object_fit": null,
            "object_position": null,
            "order": null,
            "overflow": null,
            "overflow_x": null,
            "overflow_y": null,
            "padding": null,
            "right": null,
            "top": null,
            "visibility": null,
            "width": null
          }
        },
        "31a11061fed34889ae27fe68edebe90a": {
          "model_module": "@jupyter-widgets/controls",
          "model_name": "ProgressStyleModel",
          "model_module_version": "1.5.0",
          "state": {
            "_model_module": "@jupyter-widgets/controls",
            "_model_module_version": "1.5.0",
            "_model_name": "ProgressStyleModel",
            "_view_count": null,
            "_view_module": "@jupyter-widgets/base",
            "_view_module_version": "1.2.0",
            "_view_name": "StyleView",
            "bar_color": null,
            "description_width": ""
          }
        },
        "e4ed713305b041cebf5fd3f49fe5aca5": {
          "model_module": "@jupyter-widgets/base",
          "model_name": "LayoutModel",
          "model_module_version": "1.2.0",
          "state": {
            "_model_module": "@jupyter-widgets/base",
            "_model_module_version": "1.2.0",
            "_model_name": "LayoutModel",
            "_view_count": null,
            "_view_module": "@jupyter-widgets/base",
            "_view_module_version": "1.2.0",
            "_view_name": "LayoutView",
            "align_content": null,
            "align_items": null,
            "align_self": null,
            "border": null,
            "bottom": null,
            "display": null,
            "flex": null,
            "flex_flow": null,
            "grid_area": null,
            "grid_auto_columns": null,
            "grid_auto_flow": null,
            "grid_auto_rows": null,
            "grid_column": null,
            "grid_gap": null,
            "grid_row": null,
            "grid_template_areas": null,
            "grid_template_columns": null,
            "grid_template_rows": null,
            "height": null,
            "justify_content": null,
            "justify_items": null,
            "left": null,
            "margin": null,
            "max_height": null,
            "max_width": null,
            "min_height": null,
            "min_width": null,
            "object_fit": null,
            "object_position": null,
            "order": null,
            "overflow": null,
            "overflow_x": null,
            "overflow_y": null,
            "padding": null,
            "right": null,
            "top": null,
            "visibility": null,
            "width": null
          }
        },
        "59c47c713a6446ecac1f19d7cf0cbbed": {
          "model_module": "@jupyter-widgets/controls",
          "model_name": "DescriptionStyleModel",
          "model_module_version": "1.5.0",
          "state": {
            "_model_module": "@jupyter-widgets/controls",
            "_model_module_version": "1.5.0",
            "_model_name": "DescriptionStyleModel",
            "_view_count": null,
            "_view_module": "@jupyter-widgets/base",
            "_view_module_version": "1.2.0",
            "_view_name": "StyleView",
            "description_width": ""
          }
        }
      }
    }
  },
  "nbformat": 4,
  "nbformat_minor": 5
}